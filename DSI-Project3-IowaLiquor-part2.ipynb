{
 "cells": [
  {
   "cell_type": "code",
   "execution_count": 1,
   "metadata": {
    "collapsed": true
   },
   "outputs": [],
   "source": [
    "% matplotlib inline\n",
    "\n",
    "from collections import defaultdict\n",
    "import datetime as dt\n",
    "\n",
    "from matplotlib import pyplot as plt\n",
    "# Make the plots bigger\n",
    "plt.rcParams['figure.figsize'] = 10, 10\n",
    "import seaborn as sns\n",
    "\n",
    "import numpy as np\n",
    "import pandas as pd\n",
    "from sklearn import linear_model"
   ]
  },
  {
   "cell_type": "code",
   "execution_count": 2,
   "metadata": {
    "collapsed": false
   },
   "outputs": [
    {
     "name": "stderr",
     "output_type": "stream",
     "text": [
      "/Users/kainguyen/anaconda/lib/python2.7/site-packages/IPython/core/interactiveshell.py:2723: DtypeWarning: Columns (4) have mixed types. Specify dtype option on import or set low_memory=False.\n",
      "  interactivity=interactivity, compiler=compiler, result=result)\n"
     ]
    },
    {
     "data": {
      "text/html": [
       "<div>\n",
       "<table border=\"1\" class=\"dataframe\">\n",
       "  <thead>\n",
       "    <tr style=\"text-align: right;\">\n",
       "      <th></th>\n",
       "      <th>Unnamed: 0</th>\n",
       "      <th>Date</th>\n",
       "      <th>Store Number</th>\n",
       "      <th>City</th>\n",
       "      <th>Zip Code</th>\n",
       "      <th>Category Name</th>\n",
       "      <th>Vendor Number</th>\n",
       "      <th>Item Number</th>\n",
       "      <th>Item Description</th>\n",
       "      <th>Bottle Volume (ml)</th>\n",
       "      <th>State Bottle Cost</th>\n",
       "      <th>State Bottle Retail</th>\n",
       "      <th>Bottles Sold</th>\n",
       "      <th>Sale (Dollars)</th>\n",
       "      <th>Volume Sold (Liters)</th>\n",
       "      <th>Volume Sold (Gallons)</th>\n",
       "      <th>Margins</th>\n",
       "      <th>Price/Liter</th>\n",
       "    </tr>\n",
       "  </thead>\n",
       "  <tbody>\n",
       "    <tr>\n",
       "      <th>0</th>\n",
       "      <td>2663461</td>\n",
       "      <td>2015-01-08</td>\n",
       "      <td>2106</td>\n",
       "      <td>CEDAR FALLS</td>\n",
       "      <td>50613</td>\n",
       "      <td>CANADIAN WHISKIES</td>\n",
       "      <td>260</td>\n",
       "      <td>11296</td>\n",
       "      <td>Crown Royal</td>\n",
       "      <td>750</td>\n",
       "      <td>15.00</td>\n",
       "      <td>22.50</td>\n",
       "      <td>12</td>\n",
       "      <td>270.00</td>\n",
       "      <td>9.00</td>\n",
       "      <td>2.38</td>\n",
       "      <td>7.50</td>\n",
       "      <td>30.000000</td>\n",
       "    </tr>\n",
       "    <tr>\n",
       "      <th>1</th>\n",
       "      <td>2663468</td>\n",
       "      <td>2015-01-08</td>\n",
       "      <td>2106</td>\n",
       "      <td>CEDAR FALLS</td>\n",
       "      <td>50613</td>\n",
       "      <td>SINGLE MALT SCOTCH</td>\n",
       "      <td>420</td>\n",
       "      <td>5133</td>\n",
       "      <td>Glenmorangie 10 Yr Single Malt Scotch</td>\n",
       "      <td>750</td>\n",
       "      <td>22.99</td>\n",
       "      <td>34.49</td>\n",
       "      <td>1</td>\n",
       "      <td>34.49</td>\n",
       "      <td>0.75</td>\n",
       "      <td>0.20</td>\n",
       "      <td>11.50</td>\n",
       "      <td>45.986667</td>\n",
       "    </tr>\n",
       "    <tr>\n",
       "      <th>2</th>\n",
       "      <td>2663551</td>\n",
       "      <td>2015-01-08</td>\n",
       "      <td>2106</td>\n",
       "      <td>CEDAR FALLS</td>\n",
       "      <td>50613</td>\n",
       "      <td>CANADIAN WHISKIES</td>\n",
       "      <td>115</td>\n",
       "      <td>10550</td>\n",
       "      <td>Black Velvet Toasted Caramel</td>\n",
       "      <td>750</td>\n",
       "      <td>6.75</td>\n",
       "      <td>10.13</td>\n",
       "      <td>12</td>\n",
       "      <td>121.56</td>\n",
       "      <td>9.00</td>\n",
       "      <td>2.38</td>\n",
       "      <td>3.38</td>\n",
       "      <td>13.506667</td>\n",
       "    </tr>\n",
       "    <tr>\n",
       "      <th>3</th>\n",
       "      <td>2663731</td>\n",
       "      <td>2015-01-08</td>\n",
       "      <td>2106</td>\n",
       "      <td>CEDAR FALLS</td>\n",
       "      <td>50613</td>\n",
       "      <td>AMERICAN DRY GINS</td>\n",
       "      <td>55</td>\n",
       "      <td>29287</td>\n",
       "      <td>Barton Gin</td>\n",
       "      <td>1000</td>\n",
       "      <td>3.92</td>\n",
       "      <td>5.88</td>\n",
       "      <td>12</td>\n",
       "      <td>70.56</td>\n",
       "      <td>12.00</td>\n",
       "      <td>3.17</td>\n",
       "      <td>1.96</td>\n",
       "      <td>5.880000</td>\n",
       "    </tr>\n",
       "    <tr>\n",
       "      <th>4</th>\n",
       "      <td>2663758</td>\n",
       "      <td>2015-01-08</td>\n",
       "      <td>2106</td>\n",
       "      <td>CEDAR FALLS</td>\n",
       "      <td>50613</td>\n",
       "      <td>CANADIAN WHISKIES</td>\n",
       "      <td>260</td>\n",
       "      <td>10808</td>\n",
       "      <td>Crown Royal Regal Apple</td>\n",
       "      <td>1000</td>\n",
       "      <td>18.50</td>\n",
       "      <td>27.75</td>\n",
       "      <td>36</td>\n",
       "      <td>999.00</td>\n",
       "      <td>36.00</td>\n",
       "      <td>9.51</td>\n",
       "      <td>9.25</td>\n",
       "      <td>27.750000</td>\n",
       "    </tr>\n",
       "  </tbody>\n",
       "</table>\n",
       "</div>"
      ],
      "text/plain": [
       "   Unnamed: 0       Date  Store Number         City Zip Code  \\\n",
       "0     2663461 2015-01-08          2106  CEDAR FALLS    50613   \n",
       "1     2663468 2015-01-08          2106  CEDAR FALLS    50613   \n",
       "2     2663551 2015-01-08          2106  CEDAR FALLS    50613   \n",
       "3     2663731 2015-01-08          2106  CEDAR FALLS    50613   \n",
       "4     2663758 2015-01-08          2106  CEDAR FALLS    50613   \n",
       "\n",
       "        Category Name  Vendor Number  Item Number  \\\n",
       "0   CANADIAN WHISKIES            260        11296   \n",
       "1  SINGLE MALT SCOTCH            420         5133   \n",
       "2   CANADIAN WHISKIES            115        10550   \n",
       "3   AMERICAN DRY GINS             55        29287   \n",
       "4   CANADIAN WHISKIES            260        10808   \n",
       "\n",
       "                        Item Description  Bottle Volume (ml)  \\\n",
       "0                            Crown Royal                 750   \n",
       "1  Glenmorangie 10 Yr Single Malt Scotch                 750   \n",
       "2           Black Velvet Toasted Caramel                 750   \n",
       "3                             Barton Gin                1000   \n",
       "4                Crown Royal Regal Apple                1000   \n",
       "\n",
       "   State Bottle Cost  State Bottle Retail  Bottles Sold  Sale (Dollars)  \\\n",
       "0              15.00                22.50            12          270.00   \n",
       "1              22.99                34.49             1           34.49   \n",
       "2               6.75                10.13            12          121.56   \n",
       "3               3.92                 5.88            12           70.56   \n",
       "4              18.50                27.75            36          999.00   \n",
       "\n",
       "   Volume Sold (Liters)  Volume Sold (Gallons)  Margins  Price/Liter  \n",
       "0                  9.00                   2.38     7.50    30.000000  \n",
       "1                  0.75                   0.20    11.50    45.986667  \n",
       "2                  9.00                   2.38     3.38    13.506667  \n",
       "3                 12.00                   3.17     1.96     5.880000  \n",
       "4                 36.00                   9.51     9.25    27.750000  "
      ]
     },
     "execution_count": 2,
     "metadata": {},
     "output_type": "execute_result"
    }
   ],
   "source": [
    "# Load the data from the previous lab\n",
    "# If you changed the name you'll need to edit the next line\n",
    "iowasales = pd.read_csv('iowasales.csv')\n",
    "\n",
    "\n",
    "# Convert dates\n",
    "iowasales['Date']=pd.to_datetime(iowasales['Date'], infer_datetime_format=True)\n",
    "iowasales.head()"
   ]
  },
  {
   "cell_type": "code",
   "execution_count": 8,
   "metadata": {
    "collapsed": false
   },
   "outputs": [
    {
     "data": {
      "text/html": [
       "<div>\n",
       "<table border=\"1\" class=\"dataframe\">\n",
       "  <thead>\n",
       "    <tr style=\"text-align: right;\">\n",
       "      <th></th>\n",
       "      <th>Store Number</th>\n",
       "      <th>Sale (Dollars)</th>\n",
       "    </tr>\n",
       "  </thead>\n",
       "  <tbody>\n",
       "    <tr>\n",
       "      <th>0</th>\n",
       "      <td>2106</td>\n",
       "      <td>1772173.90</td>\n",
       "    </tr>\n",
       "    <tr>\n",
       "      <th>1</th>\n",
       "      <td>2113</td>\n",
       "      <td>107500.05</td>\n",
       "    </tr>\n",
       "    <tr>\n",
       "      <th>2</th>\n",
       "      <td>2130</td>\n",
       "      <td>1415127.26</td>\n",
       "    </tr>\n",
       "    <tr>\n",
       "      <th>3</th>\n",
       "      <td>2152</td>\n",
       "      <td>85832.60</td>\n",
       "    </tr>\n",
       "    <tr>\n",
       "      <th>4</th>\n",
       "      <td>2178</td>\n",
       "      <td>336927.86</td>\n",
       "    </tr>\n",
       "  </tbody>\n",
       "</table>\n",
       "</div>"
      ],
      "text/plain": [
       "  Store Number  Sale (Dollars)\n",
       "0         2106      1772173.90\n",
       "1         2113       107500.05\n",
       "2         2130      1415127.26\n",
       "3         2152        85832.60\n",
       "4         2178       336927.86"
      ]
     },
     "execution_count": 8,
     "metadata": {},
     "output_type": "execute_result"
    }
   ],
   "source": [
    "iowapiv = pd.read_csv('iowapiv.csv')\n",
    "iowapiv.head()"
   ]
  },
  {
   "cell_type": "code",
   "execution_count": 4,
   "metadata": {
    "collapsed": false,
    "scrolled": true
   },
   "outputs": [
    {
     "data": {
      "text/plain": [
       "Index([u'Unnamed: 0', u'Date', u'Store Number', u'City', u'Zip Code',\n",
       "       u'Category Name', u'Vendor Number', u'Item Number', u'Item Description',\n",
       "       u'Bottle Volume (ml)', u'State Bottle Cost', u'State Bottle Retail',\n",
       "       u'Bottles Sold', u'Sale (Dollars)', u'Volume Sold (Liters)',\n",
       "       u'Volume Sold (Gallons)', u'Margins', u'Price/Liter'],\n",
       "      dtype='object')"
      ]
     },
     "execution_count": 4,
     "metadata": {},
     "output_type": "execute_result"
    }
   ],
   "source": [
    "iowasales.columns"
   ]
  },
  {
   "cell_type": "code",
   "execution_count": 16,
   "metadata": {
    "collapsed": false
   },
   "outputs": [
    {
     "data": {
      "text/plain": [
       "Store Number       object\n",
       "Sale (Dollars)    float64\n",
       "dtype: object"
      ]
     },
     "execution_count": 16,
     "metadata": {},
     "output_type": "execute_result"
    }
   ],
   "source": [
    "iowapiv.dtypes"
   ]
  },
  {
   "cell_type": "code",
   "execution_count": 5,
   "metadata": {
    "collapsed": false
   },
   "outputs": [
    {
     "data": {
      "image/png": "[encoded data removed]",
      "text/plain": [
       "<matplotlib.figure.Figure at 0x104c48310>"
      ]
     },
     "metadata": {},
     "output_type": "display_data"
    }
   ],
   "source": [
    "plt.hist(iowasales['Store Number'], bins=30)\n",
    "plt.xlabel('Store Number')\n",
    "plt.title('Frequency Distribution of stores')\n",
    "plt.show()"
   ]
  },
  {
   "cell_type": "code",
   "execution_count": 22,
   "metadata": {
    "collapsed": false
   },
   "outputs": [
    {
     "data": {
      "image/png": "[encoded data removed]",
      "text/plain": [
       "<matplotlib.figure.Figure at 0x118497d50>"
      ]
     },
     "metadata": {},
     "output_type": "display_data"
    }
   ],
   "source": [
    "plt.hist(iowapiv['Sale (Dollars)'], bins=30)\n",
    "plt.show()"
   ]
  },
  {
   "cell_type": "code",
   "execution_count": 12,
   "metadata": {
    "collapsed": false
   },
   "outputs": [
    {
     "data": {
      "image/png": "[encoded data removed]",
      "text/plain": [
       "<matplotlib.figure.Figure at 0x11967ca50>"
      ]
     },
     "metadata": {},
     "output_type": "display_data"
    }
   ],
   "source": [
    "plt.scatter(x=iowasales['Item Number'], y=iowasales['Sale (Dollars)'])\n",
    "plt.xlabel('Item number')\n",
    "plt.ylabel('Sales')\n",
    "plt.title('Sales by Liquor Types')\n",
    "plt.show()"
   ]
  },
  {
   "cell_type": "code",
   "execution_count": 7,
   "metadata": {
    "collapsed": false
   },
   "outputs": [
    {
     "name": "stdout",
     "output_type": "stream",
     "text": [
      "LinregressResult(slope=-0.0074652769290121023, intercept=156.87291396771542, rvalue=-0.017372590583067365, pvalue=2.0268353011794583e-145, stderr=0.00029069774018205917)\n"
     ]
    },
    {
     "data": {
      "image/png": "[encoded data removed]",
      "text/plain": [
       "<matplotlib.figure.Figure at 0x104c48710>"
      ]
     },
     "metadata": {},
     "output_type": "display_data"
    }
   ],
   "source": [
    "from scipy.stats import linregress\n",
    "plt.scatter(x=iowasales['Store Number'], y=iowasales['Sale (Dollars)'], color='g', s=80, marker=\"+\")\n",
    "plt.xlabel('Store')\n",
    "plt.ylabel('Sales')\n",
    "plt.title('Sales by Store')\n",
    "plt.plot(iowasales['Store Number'], np.poly1d(np.polyfit(iowasales['Store Number'], iowasales['Sale (Dollars)'], 1))(iowasales['Store Number']))\n",
    "fit = np.polyfit(iowasales['Store Number'],iowasales['Sale (Dollars)'],1)\n",
    "fit_fn = np.poly1d(fit)\n",
    "print linregress(iowasales['Store Number'],iowasales['Sale (Dollars)'])\n",
    "plt.show()"
   ]
  },
  {
   "cell_type": "code",
   "execution_count": null,
   "metadata": {
    "collapsed": true
   },
   "outputs": [],
   "source": []
  }
 ],
 "metadata": {
  "kernelspec": {
   "display_name": "Python 2",
   "language": "python",
   "name": "python2"
  },
  "language_info": {
   "codemirror_mode": {
    "name": "ipython",
    "version": 2
   },
   "file_extension": ".py",
   "mimetype": "text/x-python",
   "name": "python",
   "nbconvert_exporter": "python",
   "pygments_lexer": "ipython2",
   "version": "2.7.11"
  }
 },
 "nbformat": 4,
 "nbformat_minor": 0
}
